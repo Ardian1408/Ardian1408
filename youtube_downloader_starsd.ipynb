{
  "nbformat": 4,
  "nbformat_minor": 0,
  "metadata": {
    "colab": {
      "provenance": [],
      "authorship_tag": "ABX9TyPfeJ9LwDxJY7D75B8SAq0h",
      "include_colab_link": true
    },
    "kernelspec": {
      "name": "python3",
      "display_name": "Python 3"
    },
    "language_info": {
      "name": "python"
    }
  },
  "cells": [
    {
      "cell_type": "markdown",
      "metadata": {
        "id": "view-in-github",
        "colab_type": "text"
      },
      "source": [
        "<a href=\"https://colab.research.google.com/github/Ardian1408/Youtube-music-downloader/blob/main/youtube_downloader_starsd.ipynb\" target=\"_parent\"><img src=\"https://colab.research.google.com/assets/colab-badge.svg\" alt=\"Open In Colab\"/></a>"
      ]
    },
    {
      "cell_type": "markdown",
      "source": [
        "Install PIP terlebih dahulu"
      ],
      "metadata": {
        "id": "sCB5VQla4QN9"
      }
    },
    {
      "cell_type": "code",
      "source": [
        "!pip install pytube"
      ],
      "metadata": {
        "colab": {
          "base_uri": "https://localhost:8080/"
        },
        "id": "lfvonfcbhjdL",
        "outputId": "eede47d5-5b38-4cf8-8d5a-b51a4ac0f888"
      },
      "execution_count": null,
      "outputs": [
        {
          "output_type": "stream",
          "name": "stdout",
          "text": [
            "Looking in indexes: https://pypi.org/simple, https://us-python.pkg.dev/colab-wheels/public/simple/\n",
            "Requirement already satisfied: pytube in /usr/local/lib/python3.10/dist-packages (15.0.0)\n"
          ]
        }
      ]
    },
    {
      "cell_type": "code",
      "source": [
        "from pytube import YouTube\n",
        "\n",
        "def download_video(url):\n",
        "    try:\n",
        "        # Membuat objek YouTube dengan URL video\n",
        "        youtube = YouTube(url)\n",
        "        \n",
        "        # Memilih format video dengan resolusi tertinggi\n",
        "        video = youtube.streams.get_highest_resolution()\n",
        "        \n",
        "        # Menyimpan video ke dalam direktori saat ini\n",
        "        video.download()\n",
        "        \n",
        "        print(\"Video berhasil diunduh.\")\n",
        "    except Exception as e:\n",
        "        print(\"Terjadi kesalahan:\", str(e))\n",
        "\n",
        "# Meminta pengguna memasukkan URL video YouTube\n",
        "video_url = input(\"Masukkan URL video YouTube: \")\n",
        "\n",
        "# Memanggil fungsi untuk mendownload video\n",
        "download_video(video_url)\n"
      ],
      "metadata": {
        "colab": {
          "base_uri": "https://localhost:8080/"
        },
        "id": "wcBFeEtxjZX6",
        "outputId": "faad98f3-d481-48b5-ad22-b4bdbfe08702"
      },
      "execution_count": null,
      "outputs": [
        {
          "output_type": "stream",
          "name": "stdout",
          "text": [
            "Masukkan URL video YouTube: https://youtu.be/-ODi7T8akHI\n",
            "Video berhasil diunduh.\n"
          ]
        }
      ]
    }
  ]
}